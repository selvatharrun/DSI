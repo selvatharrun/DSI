{
 "cells": [
  {
   "cell_type": "code",
   "execution_count": 2,
   "metadata": {},
   "outputs": [
    {
     "name": "stdout",
     "output_type": "stream",
     "text": [
      "Model: \"encoder\"\n",
      "_________________________________________________________________\n",
      " Layer (type)                Output Shape              Param #   \n",
      "=================================================================\n",
      " input_2 (InputLayer)        [(None, 100)]             0         \n",
      "                                                                 \n",
      " embedding_1 (Embedding)     (None, 100, 100)          1000000   \n",
      "                                                                 \n",
      " global_max_pooling1d_1 (Glo  (None, 100)              0         \n",
      " balMaxPooling1D)                                                \n",
      "                                                                 \n",
      " dense_2 (Dense)             (None, 128)               12928     \n",
      "                                                                 \n",
      " dense_3 (Dense)             (None, 64)                8256      \n",
      "                                                                 \n",
      " encoder_output (Dense)      (None, 32)                2080      \n",
      "                                                                 \n",
      "=================================================================\n",
      "Total params: 1,023,264\n",
      "Trainable params: 1,023,264\n",
      "Non-trainable params: 0\n",
      "_________________________________________________________________\n"
     ]
    }
   ],
   "source": [
    "import tensorflow as tf\n",
    "import numpy as np\n",
    "from tensorflow.keras.layers import Input, Dense, Embedding, Flatten, GlobalMaxPooling1D\n",
    "from tensorflow.keras.models import Model\n",
    "from tensorflow.keras.preprocessing.text import Tokenizer\n",
    "from tensorflow.keras.preprocessing.sequence import pad_sequences\n",
    "\n",
    "# Text preprocessing\n",
    "def preprocess_text(texts, max_words=10000, max_seq_length=100):\n",
    "    \"\"\"\n",
    "    Convert text to sequences of word indices and pad them\n",
    "    \"\"\"\n",
    "    tokenizer = Tokenizer(num_words=max_words)\n",
    "    tokenizer.fit_on_texts(texts)\n",
    "    sequences = tokenizer.texts_to_sequences(texts)\n",
    "    padded_sequences = pad_sequences(sequences, maxlen=max_seq_length)\n",
    "    return padded_sequences, tokenizer\n",
    "\n",
    "# Build encoder model (text to vector)\n",
    "def build_encoder(max_words=10000, max_seq_length=100, embedding_dim=100, latent_dim=32):\n",
    "    \"\"\"\n",
    "    Build the encoder part of an autoencoder for text\n",
    "    \"\"\"\n",
    "    # Input layer\n",
    "    input_text = Input(shape=(max_seq_length,))\n",
    "    \n",
    "    # Embedding layer to convert word indices to vectors\n",
    "    x = Embedding(input_dim=max_words, output_dim=embedding_dim)(input_text)\n",
    "    \n",
    "    # Process the sequence\n",
    "    x = GlobalMaxPooling1D()(x)  # Convert sequence to fixed-length vector\n",
    "    \n",
    "    # Dense layers to compress the representation\n",
    "    x = Dense(128, activation='relu')(x)\n",
    "    x = Dense(64, activation='relu')(x)\n",
    "    \n",
    "    # Latent space representation\n",
    "    encoded = Dense(latent_dim, activation='relu', name='encoder_output')(x)\n",
    "    \n",
    "    # Create model\n",
    "    encoder = Model(input_text, encoded, name='encoder')\n",
    "    return encoder\n",
    "\n",
    "# Example usage\n",
    "encoder = build_encoder()\n",
    "encoder.summary()\n",
    "enc = encoder.compile(optimizer='adam', loss='mse')"
   ]
  },
  {
   "cell_type": "code",
   "execution_count": null,
   "metadata": {},
   "outputs": [
    {
     "ename": "TypeError",
     "evalue": "'NoneType' object is not callable",
     "output_type": "error",
     "traceback": [
      "\u001b[1;31m---------------------------------------------------------------------------\u001b[0m",
      "\u001b[1;31mTypeError\u001b[0m                                 Traceback (most recent call last)",
      "Cell \u001b[1;32mIn[3], line 1\u001b[0m\n\u001b[1;32m----> 1\u001b[0m \u001b[43menc\u001b[49m\u001b[43m(\u001b[49m\u001b[38;5;124;43m\"\u001b[39;49m\u001b[38;5;124;43mDeep Learning for NLP\u001b[39;49m\u001b[38;5;124;43m\"\u001b[39;49m\u001b[43m)\u001b[49m\n",
      "\u001b[1;31mTypeError\u001b[0m: 'NoneType' object is not callable"
     ]
    }
   ],
   "source": []
  }
 ],
 "metadata": {
  "kernelspec": {
   "display_name": "Python 3",
   "language": "python",
   "name": "python3"
  },
  "language_info": {
   "codemirror_mode": {
    "name": "ipython",
    "version": 3
   },
   "file_extension": ".py",
   "mimetype": "text/x-python",
   "name": "python",
   "nbconvert_exporter": "python",
   "pygments_lexer": "ipython3",
   "version": "3.11.4"
  }
 },
 "nbformat": 4,
 "nbformat_minor": 2
}
